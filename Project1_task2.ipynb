{
  "nbformat": 4,
  "nbformat_minor": 0,
  "metadata": {
    "colab": {
      "name": "Project1_task2.ipynb",
      "provenance": [],
      "collapsed_sections": [],
      "authorship_tag": "ABX9TyPnKlLNLEo51Tpf4gfjrYYk",
      "include_colab_link": true
    },
    "kernelspec": {
      "name": "python3",
      "display_name": "Python 3"
    },
    "language_info": {
      "name": "python"
    }
  },
  "cells": [
    {
      "cell_type": "markdown",
      "metadata": {
        "id": "view-in-github",
        "colab_type": "text"
      },
      "source": [
        "<a href=\"https://colab.research.google.com/github/m-triassi/ai-projects-472/blob/main/Project1_task2.ipynb\" target=\"_parent\"><img src=\"https://colab.research.google.com/assets/colab-badge.svg\" alt=\"Open In Colab\"/></a>"
      ]
    },
    {
      "cell_type": "markdown",
      "metadata": {
        "id": "-LcW5p1upN1d"
      },
      "source": [
        "\n",
        "Task \n",
        "\n",
        "This Task consists of using the provided Drug dataset that contains multiple features of various drugs. The goal is to classify a particular drug into 1 of 5 categories: DrugA, DrugB, DrugC, DrugX, or DrugY"
      ]
    },
    {
      "cell_type": "code",
      "metadata": {
        "id": "jawP_PLcplFl"
      },
      "source": [
        "# Import Dependencies"
      ],
      "execution_count": null,
      "outputs": []
    },
    {
      "cell_type": "code",
      "metadata": {
        "id": "2A55UL4joxml"
      },
      "source": [
        "# Load Dataset"
      ],
      "execution_count": null,
      "outputs": []
    },
    {
      "cell_type": "code",
      "metadata": {
        "id": "xOoZ3gMUpyQb"
      },
      "source": [
        "# Plot Distribution"
      ],
      "execution_count": null,
      "outputs": []
    },
    {
      "cell_type": "code",
      "metadata": {
        "id": "SIljpi0qp0OB"
      },
      "source": [
        "# Convert all ordinal and nominal features in numerical format"
      ],
      "execution_count": null,
      "outputs": []
    },
    {
      "cell_type": "code",
      "metadata": {
        "id": "xrYAYjk5p4rp"
      },
      "source": [
        "# Split Dataset"
      ],
      "execution_count": null,
      "outputs": []
    },
    {
      "cell_type": "code",
      "metadata": {
        "id": "OfXz9Ga_rO3P"
      },
      "source": [
        "# Define Performance text file function\n",
        "## Should accept: description_string, confusion matrix, precision, recall, f1-measure, accuracym macro-average f1, weighted-average f1"
      ],
      "execution_count": null,
      "outputs": []
    },
    {
      "cell_type": "code",
      "metadata": {
        "id": "9n3wnIK5qBII"
      },
      "source": [
        "# Classify using Gaussian Naive Bayes\n",
        "\n",
        "# Append Performance"
      ],
      "execution_count": null,
      "outputs": []
    },
    {
      "cell_type": "code",
      "metadata": {
        "id": "5md4OcEfqNGv"
      },
      "source": [
        "# Classify using Base Desicion Tree (tree.DecisionTreeClassifier)\n",
        "\n",
        "# Append Performance"
      ],
      "execution_count": null,
      "outputs": []
    },
    {
      "cell_type": "code",
      "metadata": {
        "id": "YeQvM-TYqRxb"
      },
      "source": [
        "# Classify using Top Desicion Tree (GridSearchCV)\n",
        "\n",
        "# Append Performance"
      ],
      "execution_count": null,
      "outputs": []
    },
    {
      "cell_type": "code",
      "metadata": {
        "id": "SH2hUAbxqb5N"
      },
      "source": [
        "# Classify using Perceptron\n",
        "\n",
        "# Append Performance"
      ],
      "execution_count": null,
      "outputs": []
    },
    {
      "cell_type": "code",
      "metadata": {
        "id": "cmqOUaKZqhb2"
      },
      "source": [
        "# Classify using Base Multi-layered Perceptron (neural network.MLPClassifier)\n",
        "\n",
        "# Append Performance"
      ],
      "execution_count": null,
      "outputs": []
    },
    {
      "cell_type": "code",
      "metadata": {
        "id": "lwawrilKqme5"
      },
      "source": [
        "# Classify using Handcrafted Multi-layered Perceptron\n",
        "\n",
        "# Append Performance"
      ],
      "execution_count": null,
      "outputs": []
    }
  ]
}