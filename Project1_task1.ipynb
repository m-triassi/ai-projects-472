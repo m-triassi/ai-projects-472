{
  "nbformat": 4,
  "nbformat_minor": 0,
  "metadata": {
    "colab": {
      "name": "Project1_task1.ipynb",
      "provenance": [],
      "collapsed_sections": [],
      "include_colab_link": true
    },
    "kernelspec": {
      "name": "python3",
      "display_name": "Python 3"
    },
    "language_info": {
      "name": "python"
    }
  },
  "cells": [
    {
      "cell_type": "markdown",
      "metadata": {
        "id": "view-in-github",
        "colab_type": "text"
      },
      "source": [
        "<a href=\"https://colab.research.google.com/github/m-triassi/ai-projects-472/blob/main/Project1_task1.ipynb\" target=\"_parent\"><img src=\"https://colab.research.google.com/assets/colab-badge.svg\" alt=\"Open In Colab\"/></a>"
      ]
    },
    {
      "cell_type": "markdown",
      "metadata": {
        "id": "Uo3WIgPEko34"
      },
      "source": [
        "## Task 1\n",
        "This Task consists of using the BBC Dataset to teach a Multinomial Naive Bayes classifier to distinguish between different article types. A given article should be classified into 1 of 5 different categories: business,\n",
        "entertainment, politics, sport, and tech\n"
      ]
    },
    {
      "cell_type": "code",
      "metadata": {
        "id": "q1oTGjoEmzFF"
      },
      "source": [
        "# Import Dependencies\n",
        "import numpy as np\n",
        "import matplotlib.pyplot as plt\n",
        "import os, os.path\n",
        "from sklearn.feature_extraction.text import CountVectorizer\n",
        "from sklearn.model_selection import train_test_split\n",
        "from sklearn.naive_bayes import MultinomialNB\n",
        "from sklearn.metrics import confusion_matrix\n",
        "from sklearn.metrics import classification_report\n",
        "from sklearn.metrics import accuracy_score\n",
        "from sklearn.metrics import f1_score\n",
        "import sklearn.datasets as datasets\n",
        "from pathlib import Path"
      ],
      "execution_count": 6,
      "outputs": []
    },
    {
      "cell_type": "code",
      "metadata": {
        "colab": {
          "base_uri": "https://localhost:8080/"
        },
        "id": "TwiJHjSiuVtU",
        "outputId": "48ecfc2d-b806-4b0b-e3f8-8baf653c64f6"
      },
      "source": [
        "# Import Dataset\n",
        "from google.colab import drive\n",
        "# drive.mount('/content/drive', force_remount=True) # Only for development\n",
        "!gdown --id 1hg8v4l7iGcqW83tNwbBRlVaFtfNCn6rr\n",
        "!unzip /content/BBC.zip"
      ],
      "execution_count": 7,
      "outputs": [
        {
          "output_type": "stream",
          "name": "stdout",
          "text": [
            "Downloading...\n",
            "From: https://drive.google.com/uc?id=1hg8v4l7iGcqW83tNwbBRlVaFtfNCn6rr\n",
            "To: /content/BBC.zip\n",
            "\r  0% 0.00/2.76M [00:00<?, ?B/s]\r100% 2.76M/2.76M [00:00<00:00, 88.2MB/s]\n",
            "Archive:  /content/BBC.zip\n",
            "replace BBC/business/001.txt? [y]es, [n]o, [A]ll, [N]one, [r]ename: N\n"
          ]
        }
      ]
    },
    {
      "cell_type": "code",
      "metadata": {
        "id": "aN4JRKbcjpsU",
        "colab": {
          "base_uri": "https://localhost:8080/",
          "height": 265
        },
        "outputId": "00a0d3d3-e192-4cfc-803f-65a596a137f5"
      },
      "source": [
        "# Plot distribution of BBC Dataset\n",
        "\n",
        "## Set up data + labels\n",
        "dir = \"/content/BBC\"\n",
        "y = np.array([])\n",
        "curr_label = 1\n",
        "labels = [\"Business\", \"Entertainment\", \"Politics\", \"Sports\", \"Tech\"]\n",
        "\n",
        "## create probability ditribution by adding a particular label to an array n times\n",
        "## where n is the the number of files per folder\n",
        "for name in os.listdir(dir):\n",
        "  if os.path.isdir(os.path.join(dir, name)) and not name.startswith(\".\"):\n",
        "    y = np.append(y, np.repeat(curr_label, len(os.listdir(os.path.join(dir, name)))))\n",
        "    curr_label += 1\n",
        "    \n",
        "## Set up the plot\n",
        "plt.xticks(np.arange(1, 6), labels)\n",
        "n, bins, patches = plt.hist(y, bins=5, facecolor='b', alpha=0.75, ec=\"k\")\n",
        "plt.show()"
      ],
      "execution_count": 9,
      "outputs": [
        {
          "output_type": "display_data",
          "data": {
            "image/png": "[encoded data removed]",
            "text/plain": [
              "<Figure size 432x288 with 1 Axes>"
            ]
          },
          "metadata": {
            "needs_background": "light"
          }
        }
      ]
    },
    {
      "cell_type": "code",
      "metadata": {
        "id": "-lF4oXm2mww9"
      },
      "source": [
        "# Load Corpus\n",
        "corpus = datasets.load_files(dir, encoding='latin1')\n",
        "y = corpus.target"
      ],
      "execution_count": 10,
      "outputs": []
    },
    {
      "cell_type": "code",
      "metadata": {
        "id": "hoJH5UNIm5Lz",
        "colab": {
          "base_uri": "https://localhost:8080/"
        },
        "outputId": "e3c727eb-46fa-4fe2-f760-d6c59a62f483"
      },
      "source": [
        "# Pre-Process Data set\n",
        "\n",
        "## vectorize texts into word frequencies for model use\n",
        "vectorizer = CountVectorizer()\n",
        "X_text = vectorizer.fit_transform(corpus['data'])\n",
        "print(X_text.shape, y.shape)"
      ],
      "execution_count": 11,
      "outputs": [
        {
          "output_type": "stream",
          "name": "stdout",
          "text": [
            "(2225, 29421) (2225,)\n"
          ]
        }
      ]
    },
    {
      "cell_type": "code",
      "metadata": {
        "id": "iZg3xIwQm7tc"
      },
      "source": [
        "# Split Dataset\n",
        "X_train, X_test, y_train, y_test = train_test_split(X_text, y, test_size=.20, random_state=None)"
      ],
      "execution_count": 12,
      "outputs": []
    },
    {
      "cell_type": "markdown",
      "metadata": {
        "id": "5zSqyggyiAWv"
      },
      "source": [
        "\n",
        "\n",
        "---\n",
        "\n",
        "\n",
        "#Naive Bayes: Try 1\n",
        "\n",
        "\n",
        "---\n",
        "\n",
        "\n"
      ]
    },
    {
      "cell_type": "code",
      "metadata": {
        "id": "1PNmC9F4m-8G",
        "colab": {
          "base_uri": "https://localhost:8080/"
        },
        "outputId": "68ee6e62-cc01-4e75-d4ab-2fd69ae1067a"
      },
      "source": [
        "# Train Naive Bayes: Try 1\n",
        "nb_one = MultinomialNB()\n",
        "nb_one.fit(X_train, y_train)"
      ],
      "execution_count": 14,
      "outputs": [
        {
          "output_type": "execute_result",
          "data": {
            "text/plain": [
              "MultinomialNB(alpha=1.0, class_prior=None, fit_prior=True)"
            ]
          },
          "metadata": {},
          "execution_count": 14
        }
      ]
    },
    {
      "cell_type": "markdown",
      "metadata": {
        "id": "t6H2M0Q5gkwA"
      },
      "source": [
        "##(B)\n",
        "###Confusion Matrix\n"
      ]
    },
    {
      "cell_type": "code",
      "metadata": {
        "colab": {
          "base_uri": "https://localhost:8080/"
        },
        "id": "SUlN2I4Deq5_",
        "outputId": "dd7348ca-7f78-4584-a6b3-d82a6625ccda"
      },
      "source": [
        "print (nb_one.score(X_test, y_test))\n",
        "y_pred = nb_one.predict(X_test)\n",
        "# print(y_test)\n",
        "# print(y_pred)\n",
        "print(confusion_matrix(y_test, y_pred))"
      ],
      "execution_count": 15,
      "outputs": [
        {
          "output_type": "stream",
          "name": "stdout",
          "text": [
            "0.9797752808988764\n",
            "[[105   0   2   0   2]\n",
            " [  0  83   2   0   2]\n",
            " [  1   0  67   0   0]\n",
            " [  0   0   0 107   0]\n",
            " [  0   0   0   0  74]]\n"
          ]
        }
      ]
    },
    {
      "cell_type": "markdown",
      "metadata": {
        "id": "lXtAxYsYiHoi"
      },
      "source": [
        "## (C)\n",
        "###Precision, Recall, F1-measure"
      ]
    },
    {
      "cell_type": "code",
      "metadata": {
        "colab": {
          "base_uri": "https://localhost:8080/"
        },
        "id": "wsm-lNsiiSdf",
        "outputId": "9c922b4b-664e-4a77-ab13-1e6acc15a616"
      },
      "source": [
        "print(classification_report(y_test, y_pred, target_names=labels))"
      ],
      "execution_count": 16,
      "outputs": [
        {
          "output_type": "stream",
          "name": "stdout",
          "text": [
            "               precision    recall  f1-score   support\n",
            "\n",
            "     Business       0.99      0.96      0.98       109\n",
            "Entertainment       1.00      0.95      0.98        87\n",
            "     Politics       0.94      0.99      0.96        68\n",
            "       Sports       1.00      1.00      1.00       107\n",
            "         Tech       0.95      1.00      0.97        74\n",
            "\n",
            "     accuracy                           0.98       445\n",
            "    macro avg       0.98      0.98      0.98       445\n",
            " weighted avg       0.98      0.98      0.98       445\n",
            "\n"
          ]
        }
      ]
    },
    {
      "cell_type": "markdown",
      "metadata": {
        "id": "6BfgTBQIj_FY"
      },
      "source": [
        "## (D)"
      ]
    },
    {
      "cell_type": "markdown",
      "metadata": {
        "id": "UiQ2UJmLlIJl"
      },
      "source": [
        "###Accuracy"
      ]
    },
    {
      "cell_type": "code",
      "metadata": {
        "colab": {
          "base_uri": "https://localhost:8080/"
        },
        "id": "5qLIpjivkMF-",
        "outputId": "ea3f1e57-b028-478c-d9a7-51c50f99caff"
      },
      "source": [
        "print(accuracy_score(y_test, y_pred))\n",
        "print(accuracy_score(y_test, y_pred, normalize=False))"
      ],
      "execution_count": 17,
      "outputs": [
        {
          "output_type": "stream",
          "name": "stdout",
          "text": [
            "0.9797752808988764\n",
            "436\n"
          ]
        }
      ]
    },
    {
      "cell_type": "markdown",
      "metadata": {
        "id": "q-r35HiflKEi"
      },
      "source": [
        "### Macro average F1"
      ]
    },
    {
      "cell_type": "code",
      "metadata": {
        "colab": {
          "base_uri": "https://localhost:8080/"
        },
        "id": "gt1pVt8ulVzL",
        "outputId": "14470264-47cf-4f7e-efbe-d04c7c2ee75c"
      },
      "source": [
        "f1_score(y_test, y_pred, average = 'macro')"
      ],
      "execution_count": 18,
      "outputs": [
        {
          "output_type": "execute_result",
          "data": {
            "text/plain": [
              "0.9781855523573076"
            ]
          },
          "metadata": {},
          "execution_count": 18
        }
      ]
    },
    {
      "cell_type": "markdown",
      "metadata": {
        "id": "OnjLFjdAlMQm"
      },
      "source": [
        "###Weighted average F1"
      ]
    },
    {
      "cell_type": "code",
      "metadata": {
        "colab": {
          "base_uri": "https://localhost:8080/"
        },
        "id": "-hGxOTk0llXp",
        "outputId": "bab79d39-98c5-4db2-bae9-a01e3b70b368"
      },
      "source": [
        "f1_score(y_test, y_pred, average = 'weighted')"
      ],
      "execution_count": 19,
      "outputs": [
        {
          "output_type": "execute_result",
          "data": {
            "text/plain": [
              "0.9798306648742025"
            ]
          },
          "metadata": {},
          "execution_count": 19
        }
      ]
    },
    {
      "cell_type": "markdown",
      "metadata": {
        "id": "gX-Ih3aYl6DI"
      },
      "source": [
        "##(E)\n",
        "###Prior probability of each class"
      ]
    },
    {
      "cell_type": "code",
      "metadata": {
        "id": "mqzqr7itmBLd"
      },
      "source": [
        "# nb.Proba()???"
      ],
      "execution_count": null,
      "outputs": []
    },
    {
      "cell_type": "markdown",
      "metadata": {
        "id": "NeiexWhRNlje"
      },
      "source": [
        "## (F)\n",
        "\n",
        "### Size of Vocabulary"
      ]
    },
    {
      "cell_type": "code",
      "metadata": {
        "colab": {
          "base_uri": "https://localhost:8080/"
        },
        "id": "3m2NX4f7OGVZ",
        "outputId": "a30aec12-7f96-43c7-9c43-7074fe227d4d"
      },
      "source": [
        "len(vectorizer.vocabulary_)\n"
      ],
      "execution_count": 20,
      "outputs": [
        {
          "output_type": "execute_result",
          "data": {
            "text/plain": [
              "29421"
            ]
          },
          "metadata": {},
          "execution_count": 20
        }
      ]
    },
    {
      "cell_type": "markdown",
      "metadata": {
        "id": "We9JVIguS8jI"
      },
      "source": [
        "## (E)\n",
        "\n",
        "### Number of Word-tokens in each class"
      ]
    },
    {
      "cell_type": "code",
      "metadata": {
        "colab": {
          "base_uri": "https://localhost:8080/"
        },
        "id": "K3H3wM1qTBjc",
        "outputId": "4bc03b5c-d377-4cd7-a868-3e1ce8fd6e00"
      },
      "source": [
        "class_count = [0, 0, 0, 0, 0]\n",
        "array_text = X_text.toarray()\n",
        "\n",
        "for index in range(len(array_text)):\n",
        "  class_count[y[index]-1] += sum(array_text[index])\n",
        "\n",
        "print(class_count)"
      ],
      "execution_count": 21,
      "outputs": [
        {
          "output_type": "stream",
          "name": "stdout",
          "text": [
            "[124893, 185208, 162953, 198640, 164663]\n"
          ]
        }
      ]
    },
    {
      "cell_type": "markdown",
      "metadata": {
        "id": "wVp2l3BIQZzC"
      },
      "source": [
        "## (H)\n",
        "\n",
        "### Number of Word-tokens in corpus"
      ]
    },
    {
      "cell_type": "code",
      "metadata": {
        "colab": {
          "base_uri": "https://localhost:8080/"
        },
        "id": "3h2ynG7YQ7Xv",
        "outputId": "a1e47d04-40e2-4b30-c699-f09022ef2186"
      },
      "source": [
        "sum(map(sum, array_text))"
      ],
      "execution_count": 22,
      "outputs": [
        {
          "output_type": "execute_result",
          "data": {
            "text/plain": [
              "836357"
            ]
          },
          "metadata": {},
          "execution_count": 22
        }
      ]
    },
    {
      "cell_type": "markdown",
      "metadata": {
        "id": "B3CuOUWlYvjH"
      },
      "source": [
        "## (I)\n",
        "\n",
        "## Words with Freq of zero in each class"
      ]
    },
    {
      "cell_type": "code",
      "metadata": {
        "id": "9PRMfogPY8lZ"
      },
      "source": [
        "class_non_zero_count = [0, 0, 0, 0, 0]\n",
        "# ahhh"
      ],
      "execution_count": null,
      "outputs": []
    },
    {
      "cell_type": "markdown",
      "metadata": {
        "id": "uvdr_uf8ecom"
      },
      "source": [
        "## (I)\n",
        "\n",
        "## Words with Freq of one in entire corpus"
      ]
    },
    {
      "cell_type": "code",
      "metadata": {
        "id": "RyZ9qQnhef41"
      },
      "source": [
        ""
      ],
      "execution_count": null,
      "outputs": []
    },
    {
      "cell_type": "markdown",
      "metadata": {
        "id": "gJGl9cwLhvUx"
      },
      "source": [
        "# Naive Bayes: Try 2\n",
        "\n",
        "Note: cells displaying model performance will be ommited in all future tries in favor of generating an addition to the text file report."
      ]
    },
    {
      "cell_type": "code",
      "metadata": {
        "id": "YGJqiZvtoAcd",
        "colab": {
          "base_uri": "https://localhost:8080/"
        },
        "outputId": "f86e6f69-c73f-4c04-c936-4f33f77de7aa"
      },
      "source": [
        "# Train Naive Bayes: Try 2\n",
        "nb_two = MultinomialNB()\n",
        "nb_two.fit(X_train, y_train)\n"
      ],
      "execution_count": 23,
      "outputs": [
        {
          "output_type": "execute_result",
          "data": {
            "text/plain": [
              "MultinomialNB(alpha=1.0, class_prior=None, fit_prior=True)"
            ]
          },
          "metadata": {},
          "execution_count": 23
        }
      ]
    },
    {
      "cell_type": "markdown",
      "metadata": {
        "id": "nAqUg0w6h4E-"
      },
      "source": [
        "#Naive Bayes: Try 3"
      ]
    },
    {
      "cell_type": "code",
      "metadata": {
        "id": "Z1eAYO5moBbz",
        "colab": {
          "base_uri": "https://localhost:8080/"
        },
        "outputId": "779d0b2d-a7e0-4364-9b0b-1f772096c294"
      },
      "source": [
        "# Train Naive Bayes: Try 3\n",
        "nb_three = MultinomialNB(alpha=0.0001)\n",
        "nb_three.fit(X_train, y_train)"
      ],
      "execution_count": 24,
      "outputs": [
        {
          "output_type": "execute_result",
          "data": {
            "text/plain": [
              "MultinomialNB(alpha=0.0001, class_prior=None, fit_prior=True)"
            ]
          },
          "metadata": {},
          "execution_count": 24
        }
      ]
    },
    {
      "cell_type": "markdown",
      "metadata": {
        "id": "Aap1vgbaTOg_"
      },
      "source": [
        "# Naive Bayes: Try 4"
      ]
    },
    {
      "cell_type": "code",
      "metadata": {
        "id": "OwsyBRoYoFFQ",
        "colab": {
          "base_uri": "https://localhost:8080/"
        },
        "outputId": "eb11232f-1a3d-4713-d536-5ea844e598f9"
      },
      "source": [
        "# Train Naive Bayes: Try 4\n",
        "nb_four = MultinomialNB(alpha=0.9)\n",
        "nb_four.fit(X_train, y_train)"
      ],
      "execution_count": 25,
      "outputs": [
        {
          "output_type": "execute_result",
          "data": {
            "text/plain": [
              "MultinomialNB(alpha=0.9, class_prior=None, fit_prior=True)"
            ]
          },
          "metadata": {},
          "execution_count": 25
        }
      ]
    },
    {
      "cell_type": "code",
      "metadata": {
        "id": "Uu47oieGoLv7"
      },
      "source": [
        "# Generate / Appened to Performance file \n",
        "\n",
        "# model is the instance of NB, Label is the text that will show at the top of the run\n",
        "# \n",
        "def generate_report(model, label, vector, dataset):\n",
        "  \"\"\"\n",
        "  Appends to a report file with the statistics of a particular model run.\n",
        "\n",
        "  Parameters\n",
        "  ----------\n",
        "  model : object\n",
        "    Instance of the machine learning model, NB, Decision tree, etc\n",
        "  label : string\n",
        "    String that will appear at the top of a particular run in the text file\n",
        "  vector : object\n",
        "    Count vectorizor class, fit on the current corpus\n",
        "  dataset : object\n",
        "    the fit_transform output of the above vectorizor\n",
        "\n",
        "  \"\"\"\n",
        "  f = open(\"bbc_performance.txt\", \"a\")\n",
        "  f.write(\"\\n==========================================================\")\n",
        "  f.write(\"\\nAttempt Description: \" + label)\n",
        "\n",
        "  f.write(\"\\nConfusion Martix + Score:\\n\")\n",
        "  f.write(str(model.score(X_test, y_test)))\n",
        "  f.write(\"\\n\")\n",
        "  y_pred = model.predict(X_test)\n",
        "  f.write(str(confusion_matrix(y_test, y_pred)))\n",
        "\n",
        "  f.write(\"\\nClassification Report (precision, recall, and F1-measure )\\n\")\n",
        "  f.write(str(classification_report(y_test, y_pred, target_names=labels)))\n",
        "\n",
        "  f.write(\"\\nAccuracy Score: accuracy, macro-average F1 and weighted-average F1\\n\")\n",
        "  f.write(str(accuracy_score(y_test, y_pred)))\n",
        "  f.write(str(accuracy_score(y_test, y_pred, normalize=False)))\n",
        "  f.write(str(f1_score(y_test, y_pred, average = 'macro')))\n",
        "  f.write(str(f1_score(y_test, y_pred, average = 'weighted')))\n",
        "\n",
        "  f.write(\"\\nSize of Vocabulary\\n\")\n",
        "  f.write(str(len(vector.vocabulary_)))\n",
        "\n",
        "  f.write(\"\\nNumber of Word Tokens in each class\\n\\n\")\n",
        "  class_count = [0, 0, 0, 0, 0]\n",
        "  array_text = dataset.toarray()\n",
        "\n",
        "  for index in range(len(X_text.toarray())):\n",
        "    class_count[y[index]-1] += sum(array_text[index])\n",
        "\n",
        "  f.write(str(class_count))\n",
        "  \n",
        "  f.write(\"\\n\")\n",
        "  \n",
        "  f.write(\"\\nNumber of Word Tokens in Entire Corpus\\n\\n\")\n",
        "  f.write(str(sum(map(sum, dataset.toarray()))))\n",
        "\n",
        "  f.close()\n",
        "\n",
        "\n",
        "\n",
        "generate_report(nb_one, \"Multi-nomialNB default values, try 1\", vectorizer, X_text)\n",
        "generate_report(nb_two, \"Multi-nomialNB default values, try 2\", vectorizer, X_text)\n",
        "generate_report(nb_three, \"Multi-nomialNB with 0.0001 smoothing, try 3\", vectorizer, X_text)\n",
        "generate_report(nb_four, \"Multi-nomialNB with 0.9 smoothing, try 4\", vectorizer, X_text)\n"
      ],
      "execution_count": 26,
      "outputs": []
    }
  ]
}