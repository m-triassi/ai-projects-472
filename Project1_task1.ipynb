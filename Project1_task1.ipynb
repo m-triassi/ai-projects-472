{
  "nbformat": 4,
  "nbformat_minor": 0,
  "metadata": {
    "colab": {
      "name": "Project1_task1.ipynb",
      "provenance": [],
      "collapsed_sections": [],
      "authorship_tag": "ABX9TyNj+EZ3TXApBLhs6dFs6ndA",
      "include_colab_link": true
    },
    "kernelspec": {
      "name": "python3",
      "display_name": "Python 3"
    },
    "language_info": {
      "name": "python"
    }
  },
  "cells": [
    {
      "cell_type": "markdown",
      "metadata": {
        "id": "view-in-github",
        "colab_type": "text"
      },
      "source": [
        "<a href=\"https://colab.research.google.com/github/m-triassi/ai-projects-472/blob/main/Project1_task1.ipynb\" target=\"_parent\"><img src=\"https://colab.research.google.com/assets/colab-badge.svg\" alt=\"Open In Colab\"/></a>"
      ]
    },
    {
      "cell_type": "markdown",
      "metadata": {
        "id": "Uo3WIgPEko34"
      },
      "source": [
        "## Task 1\n",
        "This Task consists of using the BBC Dataset to teach a Multinomial Naive Bayes classifier to distinguish between different article types. A given article should be classified into 1 of 5 different categories: business,\n",
        "entertainment, politics, sport, and tech\n"
      ]
    },
    {
      "cell_type": "code",
      "metadata": {
        "id": "q1oTGjoEmzFF"
      },
      "source": [
        "# Import Dependencies"
      ],
      "execution_count": null,
      "outputs": []
    },
    {
      "cell_type": "code",
      "metadata": {
        "id": "aN4JRKbcjpsU"
      },
      "source": [
        "# Plot distribution of BBC Dataset"
      ],
      "execution_count": 1,
      "outputs": []
    },
    {
      "cell_type": "code",
      "metadata": {
        "id": "-lF4oXm2mww9"
      },
      "source": [
        "# Load Corpus"
      ],
      "execution_count": null,
      "outputs": []
    },
    {
      "cell_type": "code",
      "metadata": {
        "id": "hoJH5UNIm5Lz"
      },
      "source": [
        "# Pre-Process Data set"
      ],
      "execution_count": null,
      "outputs": []
    },
    {
      "cell_type": "code",
      "metadata": {
        "id": "iZg3xIwQm7tc"
      },
      "source": [
        "# Split Dataset"
      ],
      "execution_count": null,
      "outputs": []
    },
    {
      "cell_type": "code",
      "metadata": {
        "id": "1PNmC9F4m-8G"
      },
      "source": [
        "# Train Naive Bayes: Try 1"
      ],
      "execution_count": null,
      "outputs": []
    },
    {
      "cell_type": "code",
      "metadata": {
        "id": "YGJqiZvtoAcd"
      },
      "source": [
        "# Train Naive Bayes: Try 2"
      ],
      "execution_count": null,
      "outputs": []
    },
    {
      "cell_type": "code",
      "metadata": {
        "id": "Z1eAYO5moBbz"
      },
      "source": [
        "# Train Naive Bayes: Try 3"
      ],
      "execution_count": null,
      "outputs": []
    },
    {
      "cell_type": "code",
      "metadata": {
        "id": "OwsyBRoYoFFQ"
      },
      "source": [
        "# Train Naive Bayes: Try 4"
      ],
      "execution_count": null,
      "outputs": []
    },
    {
      "cell_type": "code",
      "metadata": {
        "id": "Uu47oieGoLv7"
      },
      "source": [
        "# Generate / Appned to Performance file "
      ],
      "execution_count": null,
      "outputs": []
    }
  ]
}