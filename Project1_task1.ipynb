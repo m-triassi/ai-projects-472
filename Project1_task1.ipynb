{
  "nbformat": 4,
  "nbformat_minor": 0,
  "metadata": {
    "colab": {
      "name": "Project1_task1.ipynb",
      "provenance": [],
      "collapsed_sections": [],
      "include_colab_link": true
    },
    "kernelspec": {
      "name": "python3",
      "display_name": "Python 3"
    },
    "language_info": {
      "name": "python"
    }
  },
  "cells": [
    {
      "cell_type": "markdown",
      "metadata": {
        "id": "view-in-github",
        "colab_type": "text"
      },
      "source": [
        "<a href=\"https://colab.research.google.com/github/m-triassi/ai-projects-472/blob/main/Project1_task1.ipynb\" target=\"_parent\"><img src=\"https://colab.research.google.com/assets/colab-badge.svg\" alt=\"Open In Colab\"/></a>"
      ]
    },
    {
      "cell_type": "markdown",
      "metadata": {
        "id": "Uo3WIgPEko34"
      },
      "source": [
        "## Task 1\n",
        "This Task consists of using the BBC Dataset to teach a Multinomial Naive Bayes classifier to distinguish between different article types. A given article should be classified into 1 of 5 different categories: business,\n",
        "entertainment, politics, sport, and tech\n"
      ]
    },
    {
      "cell_type": "code",
      "metadata": {
        "id": "q1oTGjoEmzFF"
      },
      "source": [
        "# Import Dependencies\n",
        "import numpy as np\n",
        "import matplotlib.pyplot as plt\n",
        "import os, os.path"
      ],
      "execution_count": 7,
      "outputs": []
    },
    {
      "cell_type": "code",
      "metadata": {
        "colab": {
          "base_uri": "https://localhost:8080/"
        },
        "id": "TwiJHjSiuVtU",
        "outputId": "b9d791f0-63fb-4938-d444-54ded0c6c008"
      },
      "source": [
        "# Import Dataset\n",
        "from google.colab import drive\n",
        "drive.mount('/content/drive')\n",
        "\n",
        "## Add somewhere public the dataset can be downloaded from?.. "
      ],
      "execution_count": 1,
      "outputs": [
        {
          "output_type": "stream",
          "name": "stdout",
          "text": [
            "Mounted at /content/drive\n"
          ]
        }
      ]
    },
    {
      "cell_type": "code",
      "metadata": {
        "id": "aN4JRKbcjpsU",
        "colab": {
          "base_uri": "https://localhost:8080/",
          "height": 265
        },
        "outputId": "e16bcf20-0b0a-4c1b-c6f9-7027985b159b"
      },
      "source": [
        "# Plot distribution of BBC Dataset\n",
        "\n",
        "## Set up data + labels\n",
        "dir = \"/content/drive/MyDrive/Colab Notebooks/COMP 472/Datasets/BBC\"\n",
        "x = np.array([])\n",
        "curr_label = 1\n",
        "labels = [\"Business\", \"Entertainment\", \"Politics\", \"Sports\", \"Tech\"]\n",
        "\n",
        "## create probability ditribution by adding a particular label to an array n times\n",
        "## where n is the the number of files per folder\n",
        "for name in os.listdir(dir):\n",
        "  if os.path.isdir(os.path.join(dir, name)) and not name.startswith(\".\"):\n",
        "    x = np.append(x, np.repeat(curr_label, len(os.listdir(os.path.join(dir, name)))))\n",
        "    curr_label += 1\n",
        "    \n",
        "## Set up the plot\n",
        "plt.xticks(np.arange(1, 6), labels)\n",
        "n, bins, patches = plt.hist(x, bins=5, facecolor='b', alpha=0.75, ec=\"k\")\n",
        "plt.show()"
      ],
      "execution_count": 48,
      "outputs": [
        {
          "output_type": "display_data",
          "data": {
            "image/png": "[encoded data removed]",
            "text/plain": [
              "<Figure size 432x288 with 1 Axes>"
            ]
          },
          "metadata": {
            "needs_background": "light"
          }
        }
      ]
    },
    {
      "cell_type": "code",
      "metadata": {
        "id": "-lF4oXm2mww9"
      },
      "source": [
        "# Load Corpus\n"
      ],
      "execution_count": null,
      "outputs": []
    },
    {
      "cell_type": "code",
      "metadata": {
        "id": "hoJH5UNIm5Lz"
      },
      "source": [
        "# Pre-Process Data set"
      ],
      "execution_count": null,
      "outputs": []
    },
    {
      "cell_type": "code",
      "metadata": {
        "id": "iZg3xIwQm7tc"
      },
      "source": [
        "# Split Dataset"
      ],
      "execution_count": null,
      "outputs": []
    },
    {
      "cell_type": "code",
      "metadata": {
        "id": "1PNmC9F4m-8G"
      },
      "source": [
        "# Train Naive Bayes: Try 1"
      ],
      "execution_count": null,
      "outputs": []
    },
    {
      "cell_type": "code",
      "metadata": {
        "id": "YGJqiZvtoAcd"
      },
      "source": [
        "# Train Naive Bayes: Try 2"
      ],
      "execution_count": null,
      "outputs": []
    },
    {
      "cell_type": "code",
      "metadata": {
        "id": "Z1eAYO5moBbz"
      },
      "source": [
        "# Train Naive Bayes: Try 3"
      ],
      "execution_count": null,
      "outputs": []
    },
    {
      "cell_type": "code",
      "metadata": {
        "id": "OwsyBRoYoFFQ"
      },
      "source": [
        "# Train Naive Bayes: Try 4"
      ],
      "execution_count": null,
      "outputs": []
    },
    {
      "cell_type": "code",
      "metadata": {
        "id": "Uu47oieGoLv7"
      },
      "source": [
        "# Generate / Appned to Performance file "
      ],
      "execution_count": null,
      "outputs": []
    }
  ]
}